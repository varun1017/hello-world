{
 "cells": [
  {
   "cell_type": "markdown",
   "id": "5df943f5",
   "metadata": {},
   "source": [
    "# Assignment-1"
   ]
  },
  {
   "cell_type": "code",
   "execution_count": 1,
   "id": "b89310ca",
   "metadata": {},
   "outputs": [],
   "source": [
    "File = open(\"HarryPotterAndTheSorcerersStone.txt\",'r',encoding='utf8')  #This helps in opening the file which is to be read\n"
   ]
  },
  {
   "cell_type": "code",
   "execution_count": 2,
   "id": "b84c9893",
   "metadata": {},
   "outputs": [],
   "source": [
    "DictionaryOfWords = {}         #Dictionary mapping every word to a list (of indices of the words' occurences)\n",
    "Novel = []                     #List of all words in the order, in which they appear!\n",
    "\n",
    "\n",
    "\n",
    "i = 0                   #Counter Variable to keep track of index of words\n",
    "\n",
    "for line in File.readlines():     #Iterate over all lines present in the text\n",
    "    #Look at Python's Conciseness!\n",
    "    \n",
    "    line = line.replace(\".\",\"\").replace(\",\",\"\").replace('?','').replace('!','').replace('[','').replace(']','')\\\n",
    "    .replace('(','').replace(')','').replace('%','').replace('/','')\n",
    "      \n",
    "    #COMPLETE THE CODE FROM HERE:\n",
    "    \n",
    "    #This would split the line into many different words, and iterate over these words\n",
    "    \n",
    "    for j in line.split(' '):                                                                    \n",
    "        \n",
    "        if j in DictionaryOfWords.keys():     #If the word is already present in the dictionary                                                          \n",
    "            \n",
    "            DictionaryOfWords[j].append(i)      #Add the index into the pre-existing list for this word\n",
    "                                                                             \n",
    "        else:\n",
    "        \n",
    "            DictionaryOfWords[j]=[]        #Create a new list of indices for this word, with a single element\n",
    "            DictionaryOfWords[j].append(i)                                                                 \n",
    "        \n",
    "        Novel.append(j)        #Add the Word in the Novel's ordered list of words\n",
    "                                                                             \n",
    "        i=i+1\n",
    "        \n"
   ]
  },
  {
   "cell_type": "code",
   "execution_count": 3,
   "id": "c4326d76",
   "metadata": {},
   "outputs": [],
   "source": [
    "#COMPLETE THE CODE FROM HERE:\n",
    "\n",
    "def GetQuery():\n",
    "   \n",
    "    word = input(\"Enter the word:\\n\")      #Get Input from the user regarding what word s/he wants to query for\n",
    "\n",
    "    Number = input(\"Enter the number:\\n\")      #Get Input from the user regarding how many results the user wants to see\n",
    "    \n",
    "    return (word,int(Number))  #Return as output a tuple of the word and the Number of results       \n",
    "\n"
   ]
  },
  {
   "cell_type": "code",
   "execution_count": 4,
   "id": "a9b4c368",
   "metadata": {},
   "outputs": [],
   "source": [
    "def PrintContext(index):\n",
    "    \n",
    "    global Novel                          #Declares the list Novel as a Global Variable\n",
    "    \n",
    "    #COMPLETE THE CODE FROM HERE:\n",
    "    \n",
    "    for i in range(-5,6) :           #Define the range so that the task above is fulfilled\n",
    "        \n",
    "        print(Novel[index+i], end = ' ')          #Print the word (using List Indexing) with a space after that\n",
    "        \n",
    "    print('\\n')\n",
    "    \n"
   ]
  },
  {
   "cell_type": "code",
   "execution_count": 5,
   "id": "7f778dff",
   "metadata": {},
   "outputs": [],
   "source": [
    "def PrintResult(word, NumQuery):\n",
    "  \n",
    "    global DictionaryOfWords                #Allows us to use the Dictionary as a global variable\n",
    "    \n",
    "    #COMPLETE THE CODE FROM HERE:\n",
    "    \n",
    "    L = DictionaryOfWords[word] \n",
    "    \n",
    "    for i in range(0,min(len(L),NumQuery)):\n",
    "        \n",
    "        PrintContext(L[i])             #Actually print the words surrounding the ith occurence of the given word"
   ]
  },
  {
   "cell_type": "code",
   "execution_count": 6,
   "id": "532784df",
   "metadata": {},
   "outputs": [
    {
     "name": "stdout",
     "output_type": "stream",
     "text": [
      "Press Y in order to Continue with the next query or N to end.     Please press Enter after entering your choice!Y\n",
      "Enter the word:\n",
      "Hermione\n",
      "Enter the number:\n",
      "5\n",
      "will be enough — I’m Hermione Granger by the way who \n",
      "\n",
      "\n",
      " “Are you really” said Hermione “I know all about you \n",
      "\n",
      "if it was me” said Hermione “Do either of you know \n",
      "\n",
      "Neville the toadless boy or Hermione Granger\n",
      " this time\n",
      " \n",
      " Three \n",
      "\n",
      "because a sec¬\n",
      " ond later Hermione Granger had come in\n",
      " \n",
      " \n",
      "\n",
      "Press Y in order to Continue with the next query or N to end.     Please press Enter after entering your choice!N\n"
     ]
    }
   ],
   "source": [
    "while 1>0 :   \n",
    "    \n",
    "    Choice = input('Press Y in order to Continue with the next query or N to end. \\\n",
    "    Please press Enter after entering your choice!')\n",
    "    \n",
    "    #COMPLETE THE CODE FROM HERE:\n",
    "    \n",
    "    if Choice== 'Y' :                     # If the user wants to query \n",
    "            x,y=GetQuery()\n",
    "            PrintResult(x,y)    #Use some of the past defined function to do so\n",
    "        \n",
    "    else:\n",
    "        \n",
    "        break      "
   ]
  }
 ],
 "metadata": {
  "kernelspec": {
   "display_name": "Python 3",
   "language": "python",
   "name": "python3"
  },
  "language_info": {
   "codemirror_mode": {
    "name": "ipython",
    "version": 3
   },
   "file_extension": ".py",
   "mimetype": "text/x-python",
   "name": "python",
   "nbconvert_exporter": "python",
   "pygments_lexer": "ipython3",
   "version": "3.8.8"
  }
 },
 "nbformat": 4,
 "nbformat_minor": 5
}
